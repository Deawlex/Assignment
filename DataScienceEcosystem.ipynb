{
 "cells": [
  {
   "cell_type": "markdown",
   "id": "151fbfcc-9431-4d55-95aa-eae383faab02",
   "metadata": {},
   "source": [
    "<H1>Data Science Tools and Ecosystem"
   ]
  },
  {
   "cell_type": "markdown",
   "id": "1135fdbe-0513-49f8-9283-3106d9432dfd",
   "metadata": {},
   "source": [
    "Objectives:"
   ]
  },
  {
   "cell_type": "markdown",
   "id": "944bec9c-ece7-408f-ad41-f814d52eacaf",
   "metadata": {},
   "source": [
    "<ul>\n",
    "  <li>List popular languages for Data Science</li>\n",
    "  <li>List commonly used libraries used by Data Scientists</li>\n",
    "  <li>Data science tools</li>\n",
    "  <li>Examples of evaluating arithmetic expressions in Python</li>  \n",
    "</ul>"
   ]
  },
  {
   "cell_type": "markdown",
   "id": "0e8aa62f-e046-4d3a-a2a9-ac8a7ced23f1",
   "metadata": {},
   "source": [
    "In this notebook, Data Science Tools and Ecosystem are summarized.\n"
   ]
  },
  {
   "cell_type": "markdown",
   "id": "b90191d4-f8ba-4287-8f83-a5a80e76992f",
   "metadata": {},
   "source": [
    "Some of the popular languages that Data Scientists use are:\n"
   ]
  },
  {
   "cell_type": "markdown",
   "id": "05c25f45-a006-4b67-b5ef-cbc5870d7908",
   "metadata": {},
   "source": [
    "<ol>\n",
    "  <li>Python</li>\n",
    "  <li>R</li>\n",
    "  <li>SQL</li>\n",
    "</ol>\n"
   ]
  },
  {
   "cell_type": "markdown",
   "id": "73f340fb-30ef-4ae8-8e77-67a7f99265db",
   "metadata": {
    "tags": []
   },
   "source": [
    "Some of the commonly used libraries used by Data Scientists include:"
   ]
  },
  {
   "cell_type": "markdown",
   "id": "1bb7e26e-e3ec-455f-9b29-79b50df8376b",
   "metadata": {},
   "source": [
    "<ol>\n",
    "  <li>Panda</li>\n",
    "  <li>NumPy</li>\n",
    "  <li>TensorFlow</li>\n",
    "</ol>\n"
   ]
  },
  {
   "cell_type": "markdown",
   "id": "bfe1354d-32f1-47bf-8a1b-0abacdb9afec",
   "metadata": {},
   "source": [
    "<table>\n",
    "  <tr>\n",
    "    <th>Data Science Tools</th>\n",
    "  </tr>\n",
    "  <tr>  \n",
    "    <td>RStudio</td>\n",
    "  </tr>\n",
    "  <tr>    \n",
    "    <td>Apachi Spark</td>  \n",
    "  </tr>\n",
    "  <tr>\n",
    "    <td>Apachi Hadoop</td> \n",
    "  </tr>\n",
    "</table>"
   ]
  },
  {
   "cell_type": "markdown",
   "id": "b34e472f-450a-4e0f-bdd3-4c9f6e4c0d1a",
   "metadata": {},
   "source": [
    "<H3>Below are a few examples of evaluating arithmetic expressions in Python"
   ]
  },
  {
   "cell_type": "code",
   "execution_count": 3,
   "id": "ac1e8313-1a01-42b2-92f7-4679b625b47d",
   "metadata": {},
   "outputs": [],
   "source": [
    "#This a simple arithmetic expression to mutiply then add integers"
   ]
  },
  {
   "cell_type": "code",
   "execution_count": 4,
   "id": "690a09f3-3ecd-4e05-99dd-e427c0c0a735",
   "metadata": {},
   "outputs": [
    {
     "data": {
      "text/plain": [
       "17"
      ]
     },
     "execution_count": 4,
     "metadata": {},
     "output_type": "execute_result"
    }
   ],
   "source": [
    "(3*4)+5"
   ]
  },
  {
   "cell_type": "code",
   "execution_count": 5,
   "id": "aa4d6a62-f905-4db1-bf5a-5030f2b5760a",
   "metadata": {},
   "outputs": [],
   "source": [
    "#This will convert 200 minutes to hours by diving by 60"
   ]
  },
  {
   "cell_type": "code",
   "execution_count": 13,
   "id": "5dd1532b-3fb7-468c-9533-81c336c6345e",
   "metadata": {},
   "outputs": [
    {
     "name": "stdout",
     "output_type": "stream",
     "text": [
      "3.3333333333333335 hours\n"
     ]
    }
   ],
   "source": [
    "a = 200\n",
    "print(a/60, 'hours')"
   ]
  },
  {
   "cell_type": "markdown",
   "id": "44735b29-dc1d-4caa-bb30-f34e3a2537da",
   "metadata": {},
   "source": [
    "<H2>Author"
   ]
  },
  {
   "cell_type": "markdown",
   "id": "efbc20ca-03d4-4ae0-afc8-2e280573b5e7",
   "metadata": {},
   "source": [
    "Yunusbek"
   ]
  },
  {
   "cell_type": "code",
   "execution_count": null,
   "id": "49c0df79-52de-48ce-ac11-283a7f2b9c64",
   "metadata": {},
   "outputs": [],
   "source": []
  }
 ],
 "metadata": {
  "kernelspec": {
   "display_name": "Python 3 (ipykernel)",
   "language": "python",
   "name": "python3"
  },
  "language_info": {
   "codemirror_mode": {
    "name": "ipython",
    "version": 3
   },
   "file_extension": ".py",
   "mimetype": "text/x-python",
   "name": "python",
   "nbconvert_exporter": "python",
   "pygments_lexer": "ipython3",
   "version": "3.10.9"
  }
 },
 "nbformat": 4,
 "nbformat_minor": 5
}
